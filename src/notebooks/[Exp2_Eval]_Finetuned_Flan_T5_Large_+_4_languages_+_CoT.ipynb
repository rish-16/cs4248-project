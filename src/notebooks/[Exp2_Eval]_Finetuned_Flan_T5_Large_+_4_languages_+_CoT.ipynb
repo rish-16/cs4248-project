{
  "nbformat": 4,
  "nbformat_minor": 0,
  "metadata": {
    "colab": {
      "provenance": [],
      "machine_shape": "hm"
    },
    "kernelspec": {
      "name": "python3",
      "display_name": "Python 3"
    },
    "language_info": {
      "name": "python"
    },
    "accelerator": "GPU",
    "gpuClass": "premium"
  },
  "cells": [
    {
      "cell_type": "code",
      "execution_count": null,
      "metadata": {
        "colab": {
          "base_uri": "https://localhost:8080/"
        },
        "id": "_RWUqNg9UmlE",
        "outputId": "9d4361ac-1d85-49ca-b32f-bd004fb31c29"
      },
      "outputs": [
        {
          "output_type": "stream",
          "name": "stdout",
          "text": [
            "Looking in indexes: https://pypi.org/simple, https://us-python.pkg.dev/colab-wheels/public/simple/\n",
            "Requirement already satisfied: evaluate in /usr/local/lib/python3.9/dist-packages (0.4.0)\n",
            "Requirement already satisfied: Pillow==9.0.0 in /usr/local/lib/python3.9/dist-packages (9.0.0)\n",
            "Requirement already satisfied: tqdm>=4.62.1 in /usr/local/lib/python3.9/dist-packages (from evaluate) (4.65.0)\n",
            "Requirement already satisfied: pandas in /usr/local/lib/python3.9/dist-packages (from evaluate) (1.4.4)\n",
            "Requirement already satisfied: xxhash in /usr/local/lib/python3.9/dist-packages (from evaluate) (3.2.0)\n",
            "Requirement already satisfied: numpy>=1.17 in /usr/local/lib/python3.9/dist-packages (from evaluate) (1.22.4)\n",
            "Requirement already satisfied: requests>=2.19.0 in /usr/local/lib/python3.9/dist-packages (from evaluate) (2.27.1)\n",
            "Requirement already satisfied: multiprocess in /usr/local/lib/python3.9/dist-packages (from evaluate) (0.70.14)\n",
            "Requirement already satisfied: huggingface-hub>=0.7.0 in /usr/local/lib/python3.9/dist-packages (from evaluate) (0.13.3)\n",
            "Requirement already satisfied: datasets>=2.0.0 in /usr/local/lib/python3.9/dist-packages (from evaluate) (2.11.0)\n",
            "Requirement already satisfied: fsspec[http]>=2021.05.0 in /usr/local/lib/python3.9/dist-packages (from evaluate) (2023.3.0)\n",
            "Requirement already satisfied: dill in /usr/local/lib/python3.9/dist-packages (from evaluate) (0.3.6)\n",
            "Requirement already satisfied: packaging in /usr/local/lib/python3.9/dist-packages (from evaluate) (23.0)\n",
            "Requirement already satisfied: responses<0.19 in /usr/local/lib/python3.9/dist-packages (from evaluate) (0.18.0)\n",
            "Requirement already satisfied: pyarrow>=8.0.0 in /usr/local/lib/python3.9/dist-packages (from datasets>=2.0.0->evaluate) (9.0.0)\n",
            "Requirement already satisfied: pyyaml>=5.1 in /usr/local/lib/python3.9/dist-packages (from datasets>=2.0.0->evaluate) (6.0)\n",
            "Requirement already satisfied: aiohttp in /usr/local/lib/python3.9/dist-packages (from datasets>=2.0.0->evaluate) (3.8.4)\n",
            "Requirement already satisfied: filelock in /usr/local/lib/python3.9/dist-packages (from huggingface-hub>=0.7.0->evaluate) (3.10.7)\n",
            "Requirement already satisfied: typing-extensions>=3.7.4.3 in /usr/local/lib/python3.9/dist-packages (from huggingface-hub>=0.7.0->evaluate) (4.5.0)\n",
            "Requirement already satisfied: idna<4,>=2.5 in /usr/local/lib/python3.9/dist-packages (from requests>=2.19.0->evaluate) (3.4)\n",
            "Requirement already satisfied: certifi>=2017.4.17 in /usr/local/lib/python3.9/dist-packages (from requests>=2.19.0->evaluate) (2022.12.7)\n",
            "Requirement already satisfied: charset-normalizer~=2.0.0 in /usr/local/lib/python3.9/dist-packages (from requests>=2.19.0->evaluate) (2.0.12)\n",
            "Requirement already satisfied: urllib3<1.27,>=1.21.1 in /usr/local/lib/python3.9/dist-packages (from requests>=2.19.0->evaluate) (1.26.15)\n",
            "Requirement already satisfied: pytz>=2020.1 in /usr/local/lib/python3.9/dist-packages (from pandas->evaluate) (2022.7.1)\n",
            "Requirement already satisfied: python-dateutil>=2.8.1 in /usr/local/lib/python3.9/dist-packages (from pandas->evaluate) (2.8.2)\n",
            "Requirement already satisfied: async-timeout<5.0,>=4.0.0a3 in /usr/local/lib/python3.9/dist-packages (from aiohttp->datasets>=2.0.0->evaluate) (4.0.2)\n",
            "Requirement already satisfied: attrs>=17.3.0 in /usr/local/lib/python3.9/dist-packages (from aiohttp->datasets>=2.0.0->evaluate) (22.2.0)\n",
            "Requirement already satisfied: multidict<7.0,>=4.5 in /usr/local/lib/python3.9/dist-packages (from aiohttp->datasets>=2.0.0->evaluate) (6.0.4)\n",
            "Requirement already satisfied: aiosignal>=1.1.2 in /usr/local/lib/python3.9/dist-packages (from aiohttp->datasets>=2.0.0->evaluate) (1.3.1)\n",
            "Requirement already satisfied: frozenlist>=1.1.1 in /usr/local/lib/python3.9/dist-packages (from aiohttp->datasets>=2.0.0->evaluate) (1.3.3)\n",
            "Requirement already satisfied: yarl<2.0,>=1.0 in /usr/local/lib/python3.9/dist-packages (from aiohttp->datasets>=2.0.0->evaluate) (1.8.2)\n",
            "Requirement already satisfied: six>=1.5 in /usr/local/lib/python3.9/dist-packages (from python-dateutil>=2.8.1->pandas->evaluate) (1.16.0)\n",
            "Looking in indexes: https://pypi.org/simple, https://us-python.pkg.dev/colab-wheels/public/simple/\n",
            "Requirement already satisfied: pytesseract in /usr/local/lib/python3.9/dist-packages (0.3.10)\n",
            "Requirement already satisfied: transformers in /usr/local/lib/python3.9/dist-packages (4.27.4)\n",
            "Requirement already satisfied: datasets in /usr/local/lib/python3.9/dist-packages (2.11.0)\n",
            "Requirement already satisfied: rouge-score in /usr/local/lib/python3.9/dist-packages (0.1.2)\n",
            "Requirement already satisfied: nltk in /usr/local/lib/python3.9/dist-packages (3.8.1)\n",
            "Requirement already satisfied: tensorboard in /usr/local/lib/python3.9/dist-packages (2.12.1)\n",
            "Requirement already satisfied: py7zr in /usr/local/lib/python3.9/dist-packages (0.20.4)\n",
            "Requirement already satisfied: packaging>=21.3 in /usr/local/lib/python3.9/dist-packages (from pytesseract) (23.0)\n",
            "Requirement already satisfied: Pillow>=8.0.0 in /usr/local/lib/python3.9/dist-packages (from pytesseract) (9.0.0)\n",
            "Requirement already satisfied: regex!=2019.12.17 in /usr/local/lib/python3.9/dist-packages (from transformers) (2022.10.31)\n",
            "Requirement already satisfied: numpy>=1.17 in /usr/local/lib/python3.9/dist-packages (from transformers) (1.22.4)\n",
            "Requirement already satisfied: huggingface-hub<1.0,>=0.11.0 in /usr/local/lib/python3.9/dist-packages (from transformers) (0.13.3)\n",
            "Requirement already satisfied: tqdm>=4.27 in /usr/local/lib/python3.9/dist-packages (from transformers) (4.65.0)\n",
            "Requirement already satisfied: requests in /usr/local/lib/python3.9/dist-packages (from transformers) (2.27.1)\n",
            "Requirement already satisfied: tokenizers!=0.11.3,<0.14,>=0.11.1 in /usr/local/lib/python3.9/dist-packages (from transformers) (0.13.3)\n",
            "Requirement already satisfied: pyyaml>=5.1 in /usr/local/lib/python3.9/dist-packages (from transformers) (6.0)\n",
            "Requirement already satisfied: filelock in /usr/local/lib/python3.9/dist-packages (from transformers) (3.10.7)\n",
            "Requirement already satisfied: pyarrow>=8.0.0 in /usr/local/lib/python3.9/dist-packages (from datasets) (9.0.0)\n",
            "Requirement already satisfied: responses<0.19 in /usr/local/lib/python3.9/dist-packages (from datasets) (0.18.0)\n",
            "Requirement already satisfied: pandas in /usr/local/lib/python3.9/dist-packages (from datasets) (1.4.4)\n",
            "Requirement already satisfied: xxhash in /usr/local/lib/python3.9/dist-packages (from datasets) (3.2.0)\n",
            "Requirement already satisfied: multiprocess in /usr/local/lib/python3.9/dist-packages (from datasets) (0.70.14)\n",
            "Requirement already satisfied: dill<0.3.7,>=0.3.0 in /usr/local/lib/python3.9/dist-packages (from datasets) (0.3.6)\n",
            "Requirement already satisfied: aiohttp in /usr/local/lib/python3.9/dist-packages (from datasets) (3.8.4)\n",
            "Requirement already satisfied: fsspec[http]>=2021.11.1 in /usr/local/lib/python3.9/dist-packages (from datasets) (2023.3.0)\n",
            "Requirement already satisfied: six>=1.14.0 in /usr/local/lib/python3.9/dist-packages (from rouge-score) (1.16.0)\n",
            "Requirement already satisfied: absl-py in /usr/local/lib/python3.9/dist-packages (from rouge-score) (1.4.0)\n",
            "Requirement already satisfied: joblib in /usr/local/lib/python3.9/dist-packages (from nltk) (1.1.1)\n",
            "Requirement already satisfied: click in /usr/local/lib/python3.9/dist-packages (from nltk) (8.1.3)\n",
            "Requirement already satisfied: grpcio>=1.48.2 in /usr/local/lib/python3.9/dist-packages (from tensorboard) (1.53.0)\n",
            "Requirement already satisfied: google-auth-oauthlib<1.1,>=0.5 in /usr/local/lib/python3.9/dist-packages (from tensorboard) (1.0.0)\n",
            "Requirement already satisfied: google-auth<3,>=1.6.3 in /usr/local/lib/python3.9/dist-packages (from tensorboard) (2.17.1)\n",
            "Requirement already satisfied: setuptools>=41.0.0 in /usr/local/lib/python3.9/dist-packages (from tensorboard) (67.6.1)\n",
            "Requirement already satisfied: markdown>=2.6.8 in /usr/local/lib/python3.9/dist-packages (from tensorboard) (3.4.3)\n",
            "Requirement already satisfied: werkzeug>=1.0.1 in /usr/local/lib/python3.9/dist-packages (from tensorboard) (2.2.3)\n",
            "Requirement already satisfied: wheel>=0.26 in /usr/local/lib/python3.9/dist-packages (from tensorboard) (0.40.0)\n",
            "Requirement already satisfied: protobuf>=3.19.6 in /usr/local/lib/python3.9/dist-packages (from tensorboard) (3.20.3)\n",
            "Requirement already satisfied: tensorboard-data-server<0.8.0,>=0.7.0 in /usr/local/lib/python3.9/dist-packages (from tensorboard) (0.7.0)\n",
            "Requirement already satisfied: tensorboard-plugin-wit>=1.6.0 in /usr/local/lib/python3.9/dist-packages (from tensorboard) (1.8.1)\n",
            "Requirement already satisfied: pybcj>=0.6.0 in /usr/local/lib/python3.9/dist-packages (from py7zr) (1.0.1)\n",
            "Requirement already satisfied: pycryptodomex>=3.6.6 in /usr/local/lib/python3.9/dist-packages (from py7zr) (3.17)\n",
            "Requirement already satisfied: brotli>=1.0.9 in /usr/local/lib/python3.9/dist-packages (from py7zr) (1.0.9)\n",
            "Requirement already satisfied: inflate64>=0.3.1 in /usr/local/lib/python3.9/dist-packages (from py7zr) (0.3.1)\n",
            "Requirement already satisfied: pyppmd<1.1.0,>=0.18.1 in /usr/local/lib/python3.9/dist-packages (from py7zr) (1.0.0)\n",
            "Requirement already satisfied: psutil in /usr/local/lib/python3.9/dist-packages (from py7zr) (5.9.4)\n",
            "Requirement already satisfied: multivolumefile>=0.2.3 in /usr/local/lib/python3.9/dist-packages (from py7zr) (0.2.3)\n",
            "Requirement already satisfied: texttable in /usr/local/lib/python3.9/dist-packages (from py7zr) (1.6.7)\n",
            "Requirement already satisfied: pyzstd>=0.14.4 in /usr/local/lib/python3.9/dist-packages (from py7zr) (0.15.6)\n",
            "Requirement already satisfied: charset-normalizer<4.0,>=2.0 in /usr/local/lib/python3.9/dist-packages (from aiohttp->datasets) (2.0.12)\n",
            "Requirement already satisfied: yarl<2.0,>=1.0 in /usr/local/lib/python3.9/dist-packages (from aiohttp->datasets) (1.8.2)\n",
            "Requirement already satisfied: frozenlist>=1.1.1 in /usr/local/lib/python3.9/dist-packages (from aiohttp->datasets) (1.3.3)\n",
            "Requirement already satisfied: aiosignal>=1.1.2 in /usr/local/lib/python3.9/dist-packages (from aiohttp->datasets) (1.3.1)\n",
            "Requirement already satisfied: attrs>=17.3.0 in /usr/local/lib/python3.9/dist-packages (from aiohttp->datasets) (22.2.0)\n",
            "Requirement already satisfied: async-timeout<5.0,>=4.0.0a3 in /usr/local/lib/python3.9/dist-packages (from aiohttp->datasets) (4.0.2)\n",
            "Requirement already satisfied: multidict<7.0,>=4.5 in /usr/local/lib/python3.9/dist-packages (from aiohttp->datasets) (6.0.4)\n",
            "Requirement already satisfied: pyasn1-modules>=0.2.1 in /usr/local/lib/python3.9/dist-packages (from google-auth<3,>=1.6.3->tensorboard) (0.2.8)\n",
            "Requirement already satisfied: cachetools<6.0,>=2.0.0 in /usr/local/lib/python3.9/dist-packages (from google-auth<3,>=1.6.3->tensorboard) (5.3.0)\n",
            "Requirement already satisfied: rsa<5,>=3.1.4 in /usr/local/lib/python3.9/dist-packages (from google-auth<3,>=1.6.3->tensorboard) (4.9)\n",
            "Requirement already satisfied: requests-oauthlib>=0.7.0 in /usr/local/lib/python3.9/dist-packages (from google-auth-oauthlib<1.1,>=0.5->tensorboard) (1.3.1)\n",
            "Requirement already satisfied: typing-extensions>=3.7.4.3 in /usr/local/lib/python3.9/dist-packages (from huggingface-hub<1.0,>=0.11.0->transformers) (4.5.0)\n",
            "Requirement already satisfied: importlib-metadata>=4.4 in /usr/local/lib/python3.9/dist-packages (from markdown>=2.6.8->tensorboard) (6.1.0)\n",
            "Requirement already satisfied: urllib3<1.27,>=1.21.1 in /usr/local/lib/python3.9/dist-packages (from requests->transformers) (1.26.15)\n",
            "Requirement already satisfied: idna<4,>=2.5 in /usr/local/lib/python3.9/dist-packages (from requests->transformers) (3.4)\n",
            "Requirement already satisfied: certifi>=2017.4.17 in /usr/local/lib/python3.9/dist-packages (from requests->transformers) (2022.12.7)\n",
            "Requirement already satisfied: MarkupSafe>=2.1.1 in /usr/local/lib/python3.9/dist-packages (from werkzeug>=1.0.1->tensorboard) (2.1.2)\n",
            "Requirement already satisfied: pytz>=2020.1 in /usr/local/lib/python3.9/dist-packages (from pandas->datasets) (2022.7.1)\n",
            "Requirement already satisfied: python-dateutil>=2.8.1 in /usr/local/lib/python3.9/dist-packages (from pandas->datasets) (2.8.2)\n",
            "Requirement already satisfied: zipp>=0.5 in /usr/local/lib/python3.9/dist-packages (from importlib-metadata>=4.4->markdown>=2.6.8->tensorboard) (3.15.0)\n",
            "Requirement already satisfied: pyasn1<0.5.0,>=0.4.6 in /usr/local/lib/python3.9/dist-packages (from pyasn1-modules>=0.2.1->google-auth<3,>=1.6.3->tensorboard) (0.4.8)\n",
            "Requirement already satisfied: oauthlib>=3.0.0 in /usr/local/lib/python3.9/dist-packages (from requests-oauthlib>=0.7.0->google-auth-oauthlib<1.1,>=0.5->tensorboard) (3.2.2)\n"
          ]
        }
      ],
      "source": [
        "!pip install evaluate Pillow==9.0.0\n",
        "!pip install pytesseract transformers datasets rouge-score nltk tensorboard py7zr --upgrade"
      ]
    },
    {
      "cell_type": "code",
      "source": [
        "from google.colab import drive\n",
        "drive.mount('/content/drive')"
      ],
      "metadata": {
        "colab": {
          "base_uri": "https://localhost:8080/"
        },
        "id": "opUKCcV1Uzf7",
        "outputId": "96d49d80-43b9-4431-b089-fe34bfcc4cbd"
      },
      "execution_count": null,
      "outputs": [
        {
          "output_type": "stream",
          "name": "stdout",
          "text": [
            "Mounted at /content/drive\n"
          ]
        }
      ]
    },
    {
      "cell_type": "code",
      "source": [
        "!ls"
      ],
      "metadata": {
        "colab": {
          "base_uri": "https://localhost:8080/"
        },
        "id": "_zz1hWXfU2gL",
        "outputId": "6898e643-2d00-4e49-c093-d1eff77abe68"
      },
      "execution_count": null,
      "outputs": [
        {
          "output_type": "stream",
          "name": "stdout",
          "text": [
            "drive  sample_data\n"
          ]
        }
      ]
    },
    {
      "cell_type": "code",
      "source": [
        "DATAPATH = \"drive/MyDrive/CS4248 Team 19/translated_data/final_random_2k_de.csv\"\n",
        "MODELPATH = \"drive/MyDrive/CS4248 Team 19/saved_models/flan-t5-large-4lang-cot/\"\n",
        "TOKENIZERPATH = \"drive/MyDrive/CS4248 Team 19/saved_models/flan-t5-large-4lang-cot/\""
      ],
      "metadata": {
        "id": "9lx1JBMQU2-X"
      },
      "execution_count": null,
      "outputs": []
    },
    {
      "cell_type": "code",
      "source": [
        "from transformers import AutoTokenizer, AutoModelForSeq2SeqLM\n",
        "tokenizer = AutoTokenizer.from_pretrained(TOKENIZERPATH)"
      ],
      "metadata": {
        "id": "VHNFBx-ZVHd2"
      },
      "execution_count": null,
      "outputs": []
    },
    {
      "cell_type": "code",
      "source": [
        "from transformers import AutoModelForSeq2SeqLM\n",
        "model = AutoModelForSeq2SeqLM.from_pretrained(MODELPATH).to(\"cuda:0\")"
      ],
      "metadata": {
        "id": "WYc7YC1wVSv3"
      },
      "execution_count": null,
      "outputs": []
    },
    {
      "cell_type": "code",
      "source": [
        "import pandas as pd\n",
        "\n",
        "random_de_df = pd.read_csv(DATAPATH).values.tolist()"
      ],
      "metadata": {
        "id": "lae6hM_FVdDd"
      },
      "execution_count": null,
      "outputs": []
    },
    {
      "cell_type": "code",
      "source": [
        "print (random_de_df[0][0])\n",
        "print (random_de_df[0][1])\n",
        "print (random_de_df[0][2])\n",
        "print (random_de_df[0][3])\n",
        "print (random_de_df[0][4])\n",
        "print (random_de_df[0][5])"
      ],
      "metadata": {
        "id": "_feuvoZub9y9",
        "colab": {
          "base_uri": "https://localhost:8080/"
        },
        "outputId": "9de4a41b-ef41-41b6-a70e-b8708fdfc0a0"
      },
      "execution_count": null,
      "outputs": [
        {
          "output_type": "stream",
          "name": "stdout",
          "text": [
            "0\n",
            "Eine Person mit braunen Haaren trägt ein blaues Hemd und lila Bandanna um ihren Hals mischt ein Design in eine runde, Ziegelsäule.\n",
            "Die Person, die ein blaues Hemd trägt, meißelt auf einer Ziegelsäule.\n",
            "entailment\n",
            "Eine Person meißelt ein Design aus Ziegelsteinen.\n",
            "german\n"
          ]
        }
      ]
    },
    {
      "cell_type": "code",
      "source": [
        "import torch\n",
        "from sklearn.metrics import classification_report, confusion_matrix\n",
        "\n",
        "updated_prompts_de = []\n",
        "for record in random_de_df:\n",
        "    prem = record[1]\n",
        "    hypo = record[2]\n",
        "    text = f\"\"\"Answer whether the premise entails or contradicts the hypothesis or if it's impossible to tell. Let us think step-by-step.\n",
        "Premise: {prem}\n",
        "Hypothesis: {hypo}\"\"\"\n",
        "    updated_prompts_de.append(text)"
      ],
      "metadata": {
        "id": "sgBfJjUzVmCo"
      },
      "execution_count": null,
      "outputs": []
    },
    {
      "cell_type": "code",
      "source": [
        "from pprint import pprint\n",
        "\n",
        "print (updated_prompts_de[0])\n",
        "print (updated_prompts_de[1])"
      ],
      "metadata": {
        "id": "drSeOOQ4VvGJ",
        "colab": {
          "base_uri": "https://localhost:8080/"
        },
        "outputId": "1724236f-dce4-4cf2-d5bc-5300ea9a7fb4"
      },
      "execution_count": null,
      "outputs": [
        {
          "output_type": "stream",
          "name": "stdout",
          "text": [
            "Answer whether the premise entails or contradicts the hypothesis or if it's impossible to tell. Let us think step-by-step.\n",
            "Premise: Eine Person mit braunen Haaren trägt ein blaues Hemd und lila Bandanna um ihren Hals mischt ein Design in eine runde, Ziegelsäule.\n",
            "Hypothesis: Die Person, die ein blaues Hemd trägt, meißelt auf einer Ziegelsäule.\n",
            "Answer whether the premise entails or contradicts the hypothesis or if it's impossible to tell. Let us think step-by-step.\n",
            "Premise: Zwei Männer sitzen in einem Wohnzimmer, einer trägt kulturelle Kleidung und ein anderer in einem weißen Hemd und Shorts, betrachten auf ihrem Fahrrad und Moped.\n",
            "Hypothesis: Zwei Männer in blauen Anzügen verkaufen Fahrräder und Mopeds.\n"
          ]
        }
      ]
    },
    {
      "cell_type": "code",
      "source": [
        "BS = 50\n",
        "device = torch.device(\"cuda:0\")\n",
        "\n",
        "corrupt = []\n",
        "\n",
        "mapper = {\"neutral\": 0, \"contradiction\": 1, \"entailment\": 2}\n",
        "y_pred = []\n",
        "y_test = [mapper[record[3]] for record in random_de_df]\n",
        "\n",
        "all_pred = []\n",
        "count = 0\n",
        "\n",
        "for i in range(0, len(updated_prompts_de), BS):\n",
        "    batch = updated_prompts_de[i:i+BS]\n",
        "    inputs = tokenizer(batch, return_tensors=\"pt\", padding=True)\n",
        "\n",
        "    outputs = model.generate(\n",
        "                    inputs['input_ids'].to(device),\n",
        "                    attention_mask=inputs['attention_mask'].to(device),\n",
        "                    min_length=1,\n",
        "                    max_new_tokens=40,\n",
        "                    num_beams=4\n",
        "                )\n",
        "    preds = tokenizer.batch_decode(outputs, skip_special_tokens=True)\n",
        "\n",
        "    for j, pred in enumerate(preds):\n",
        "        pred = pred.split(\".\")\n",
        "        pred = list(filter(lambda x : x != \"\", pred))\n",
        "        pred = list(map(lambda x : x.strip(), pred))\n",
        "        # print (pred)\n",
        "\n",
        "        pred_expl = pred[0]\n",
        "        pred_label = pred[-1].lower().split()[-1]\n",
        "\n",
        "        if pred_label in [\"neutral\", \"contradiction\", \"entailment\"]:\n",
        "            y_pred.append(mapper[pred_label])\n",
        "            if count < 50:\n",
        "                all_pred.append([\n",
        "                    pred_label,\n",
        "                    pred_expl\n",
        "                ])\n",
        "                count += 1\n",
        "        else:\n",
        "            corrupt.append([pred_label, pred_expl, i, j])\n",
        "\n",
        "print (len(y_pred))\n",
        "print (len(y_test))"
      ],
      "metadata": {
        "id": "KrFzXcRCVvUT",
        "colab": {
          "base_uri": "https://localhost:8080/"
        },
        "outputId": "96ac03fe-e7f2-455b-d95e-40fc885286c0"
      },
      "execution_count": null,
      "outputs": [
        {
          "output_type": "stream",
          "name": "stdout",
          "text": [
            "1453\n",
            "2000\n"
          ]
        }
      ]
    },
    {
      "cell_type": "code",
      "source": [
        "# pprint (corrupt)\n",
        "import copy\n",
        "\n",
        "bad_idx = []\n",
        "\n",
        "for record in corrupt:\n",
        "    add = record[-1] + record[-2]\n",
        "    bad_idx.append(add)\n",
        "\n",
        "bad_idx = set(bad_idx)\n",
        "valid_ids = list(set(list(range(0, 2000))) - bad_idx)\n",
        "\n",
        "y_test_ = []\n",
        "\n",
        "for i in valid_ids:\n",
        "    y_test_.append(y_test[i])\n",
        "\n",
        "print (len(y_test_))    "
      ],
      "metadata": {
        "id": "KEeOOfTIrWRx",
        "colab": {
          "base_uri": "https://localhost:8080/"
        },
        "outputId": "c8de5cee-7adf-4eca-de7b-6e0138de599a"
      },
      "execution_count": null,
      "outputs": [
        {
          "output_type": "stream",
          "name": "stdout",
          "text": [
            "1453\n"
          ]
        }
      ]
    },
    {
      "cell_type": "code",
      "source": [
        "print (len(y_test_), len(y_pred))"
      ],
      "metadata": {
        "id": "5QP3hWfms5B_",
        "colab": {
          "base_uri": "https://localhost:8080/"
        },
        "outputId": "84200ed2-02b5-4e54-8191-cdabfe3523e2"
      },
      "execution_count": null,
      "outputs": [
        {
          "output_type": "stream",
          "name": "stdout",
          "text": [
            "1453 1453\n"
          ]
        }
      ]
    },
    {
      "cell_type": "code",
      "source": [
        "cls_data = list(zip(y_test_, y_pred))       \n",
        "cls_data = pd.DataFrame(cls_data, columns=[\"Actual\", \"Prediction\"])\n",
        "conf_matrix = confusion_matrix(y_test_, y_pred)\n",
        "cls_report = classification_report(y_test_, y_pred)"
      ],
      "metadata": {
        "id": "SE-lsELLdR6d"
      },
      "execution_count": null,
      "outputs": []
    },
    {
      "cell_type": "code",
      "source": [
        "print (conf_matrix)"
      ],
      "metadata": {
        "id": "u5D0NcQtdWDb",
        "colab": {
          "base_uri": "https://localhost:8080/"
        },
        "outputId": "7b5f48c5-0fa3-4428-a667-f0391984d524"
      },
      "execution_count": null,
      "outputs": [
        {
          "output_type": "stream",
          "name": "stdout",
          "text": [
            "[[232  58 107]\n",
            " [177 204 118]\n",
            " [ 93  26 438]]\n"
          ]
        }
      ]
    },
    {
      "cell_type": "code",
      "source": [
        "print (cls_report)"
      ],
      "metadata": {
        "id": "KXGYHuPZdYsG",
        "colab": {
          "base_uri": "https://localhost:8080/"
        },
        "outputId": "6d99ac51-2a4c-4f38-ad43-06f91a3345d2"
      },
      "execution_count": null,
      "outputs": [
        {
          "output_type": "stream",
          "name": "stdout",
          "text": [
            "              precision    recall  f1-score   support\n",
            "\n",
            "           0       0.46      0.58      0.52       397\n",
            "           1       0.71      0.41      0.52       499\n",
            "           2       0.66      0.79      0.72       557\n",
            "\n",
            "    accuracy                           0.60      1453\n",
            "   macro avg       0.61      0.59      0.58      1453\n",
            "weighted avg       0.62      0.60      0.59      1453\n",
            "\n"
          ]
        }
      ]
    },
    {
      "cell_type": "code",
      "source": [
        "print (len(all_pred))\n",
        "\n",
        "to_save = []\n",
        "\n",
        "for item in zip(random_de_df[:50], all_pred):\n",
        "    idx, prem, hypo, label, expl, _ = item[0] # _ is the language [german]\n",
        "    pred_label, pred_expl = item[1]\n",
        "\n",
        "    to_save.append([\n",
        "        prem,\n",
        "        hypo,\n",
        "        label,\n",
        "        pred_label,\n",
        "        expl,\n",
        "        pred_expl\n",
        "    ])"
      ],
      "metadata": {
        "id": "4rQgT0Y_eNkd",
        "colab": {
          "base_uri": "https://localhost:8080/"
        },
        "outputId": "2b00883d-f1e5-4185-bde1-a9bd1bcd5ce8"
      },
      "execution_count": null,
      "outputs": [
        {
          "output_type": "stream",
          "name": "stdout",
          "text": [
            "50\n"
          ]
        }
      ]
    },
    {
      "cell_type": "code",
      "source": [
        "to_save = pd.DataFrame(to_save, columns=[\"premise\", \"hypothesis\", \"label\", \"pred_label\", \"explanation\", \"pred_explanation\"])\n",
        "to_save.to_csv(f\"drive/MyDrive/CS4248 Team 19/Findings/flan-t5-large-4lang-cot-german-eval-first50.csv\")"
      ],
      "metadata": {
        "id": "zpJHWMfNeRCW"
      },
      "execution_count": null,
      "outputs": []
    }
  ]
}